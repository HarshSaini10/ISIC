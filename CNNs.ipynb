{
  "cells": [
    {
      "cell_type": "code",
      "execution_count": null,
      "metadata": {
        "papermill": {
          "duration": 13.648463,
          "end_time": "2024-06-29T23:17:37.368242",
          "exception": false,
          "start_time": "2024-06-29T23:17:23.719779",
          "status": "completed"
        },
        "tags": [],
        "id": "PfZD5UV_0uyi",
        "outputId": "4075e6d9-8412-4e1d-bc31-c71741aeda4b"
      },
      "outputs": [
        {
          "name": "stdout",
          "output_type": "stream",
          "text": [
            "Requirement already satisfied: torcheval in c:\\users\\hs106\\appdata\\local\\programs\\python\\python311\\lib\\site-packages (0.0.7)\n",
            "Requirement already satisfied: typing-extensions in c:\\users\\hs106\\appdata\\local\\programs\\python\\python311\\lib\\site-packages (from torcheval) (4.12.2)\n"
          ]
        }
      ],
      "source": [
        "!pip install torcheval"
      ]
    },
    {
      "cell_type": "code",
      "execution_count": null,
      "metadata": {
        "papermill": {
          "duration": 9.086974,
          "end_time": "2024-06-29T23:17:46.466572",
          "exception": false,
          "start_time": "2024-06-29T23:17:37.379598",
          "status": "completed"
        },
        "tags": [],
        "id": "54mGlpd40uyj",
        "outputId": "433daac1-1ac4-4e35-b1e2-aa64648c7d98"
      },
      "outputs": [
        {
          "name": "stderr",
          "output_type": "stream",
          "text": [
            "INFO:albumentations.check_version:A new version of Albumentations is available: 1.4.14 (you have 1.4.13). Upgrade using: pip install -U albumentations. To disable automatic update checks, set the environment variable NO_ALBUMENTATIONS_UPDATE to 1.\n"
          ]
        }
      ],
      "source": [
        "import os\n",
        "import gc\n",
        "import cv2\n",
        "import math\n",
        "import copy\n",
        "import time\n",
        "import random\n",
        "import glob\n",
        "from matplotlib import pyplot as plt\n",
        "\n",
        "# For data manipulation\n",
        "import numpy as np\n",
        "import pandas as pd\n",
        "\n",
        "# Pytorch Imports\n",
        "import torch\n",
        "import torch.nn as nn\n",
        "import torch.optim as optim\n",
        "import torch.nn.functional as F\n",
        "from torch.optim import lr_scheduler\n",
        "from torch.utils.data import Dataset, DataLoader\n",
        "from torch.cuda import amp\n",
        "import torchvision\n",
        "from torcheval.metrics.functional import binary_auroc\n",
        "\n",
        "# Utils\n",
        "import joblib\n",
        "from tqdm import tqdm\n",
        "from collections import defaultdict\n",
        "\n",
        "# Sklearn Imports\n",
        "from sklearn.preprocessing import LabelEncoder\n",
        "from sklearn.model_selection import StratifiedKFold, StratifiedGroupKFold\n",
        "from sklearn.metrics import roc_auc_score\n",
        "\n",
        "# For Image Models\n",
        "import timm\n",
        "\n",
        "# Albumentations for augmentations\n",
        "import albumentations as A\n",
        "from albumentations.pytorch import ToTensorV2\n",
        "\n",
        "# For colored terminal text\n",
        "from colorama import Fore, Back, Style\n",
        "b_ = Fore.BLUE\n",
        "sr_ = Style.RESET_ALL\n",
        "\n",
        "import warnings\n",
        "warnings.filterwarnings(\"ignore\")\n",
        "\n",
        "# For descriptive error messages\n",
        "os.environ['CUDA_LAUNCH_BLOCKING'] = \"1\""
      ]
    },
    {
      "cell_type": "markdown",
      "metadata": {
        "papermill": {
          "duration": 0.011519,
          "end_time": "2024-06-29T23:17:46.48929",
          "exception": false,
          "start_time": "2024-06-29T23:17:46.477771",
          "status": "completed"
        },
        "tags": [],
        "id": "lNgPiodo0uyk"
      },
      "source": [
        "# <span><h1 style = \"font-family: garamond; font-size: 40px; font-style: normal; letter-spcaing: 3px; background-color: #f6f5f5; color :#fe346e; border-radius: 100px 100px; text-align:center\">Training Configuration ⚙️</h1></span>"
      ]
    },
    {
      "cell_type": "code",
      "execution_count": null,
      "metadata": {
        "papermill": {
          "duration": 0.07116,
          "end_time": "2024-06-29T23:17:46.571192",
          "exception": false,
          "start_time": "2024-06-29T23:17:46.500032",
          "status": "completed"
        },
        "tags": [],
        "id": "8YpQY7j-0uyk"
      },
      "outputs": [],
      "source": [
        "CONFIG = {\n",
        "    \"seed\": 42,\n",
        "    \"epochs\": 50,\n",
        "    \"img_size\": 384,\n",
        "    \"model_name\": \"tf_efficientnet_b0_ns\",\n",
        "    \"checkpoint_path\" : \"/kaggle/input/tf-efficientnet/pytorch/tf-efficientnet-b0/1/tf_efficientnet_b0_aa-827b6e33.pth\",\n",
        "    \"train_batch_size\": 16,\n",
        "    \"valid_batch_size\": 64,\n",
        "    \"learning_rate\": 1e-4,\n",
        "    \"scheduler\": 'CosineAnnealingLR',\n",
        "    \"min_lr\": 1e-6,\n",
        "    \"T_max\": 250,\n",
        "    \"T_0\" : 1,\n",
        "    \"weight_decay\": 1e-6,\n",
        "    \"fold\" : 0,\n",
        "    \"n_fold\": 5,\n",
        "    \"n_accumulate\": 1,\n",
        "    \"device\": torch.device(\"cuda:0\" if torch.cuda.is_available() else \"cpu\"),\n",
        "}"
      ]
    },
    {
      "cell_type": "markdown",
      "metadata": {
        "papermill": {
          "duration": 0.010587,
          "end_time": "2024-06-29T23:17:46.59285",
          "exception": false,
          "start_time": "2024-06-29T23:17:46.582263",
          "status": "completed"
        },
        "tags": [],
        "id": "fpC0dw8O0uyk"
      },
      "source": [
        "# <span><h1 style = \"font-family: garamond; font-size: 40px; font-style: normal; letter-spcaing: 3px; background-color: #f6f5f5; color :#fe346e; border-radius: 100px 100px; text-align:center\">Set Seed for Reproducibility</h1></span>"
      ]
    },
    {
      "cell_type": "code",
      "execution_count": null,
      "metadata": {
        "papermill": {
          "duration": 0.021715,
          "end_time": "2024-06-29T23:17:46.625274",
          "exception": false,
          "start_time": "2024-06-29T23:17:46.603559",
          "status": "completed"
        },
        "tags": [],
        "id": "vUkrQgwd0uyk"
      },
      "outputs": [],
      "source": [
        "def set_seed(seed=42):\n",
        "    '''Sets the seed of the entire notebook so results are the same every time we run.\n",
        "    This is for REPRODUCIBILITY.'''\n",
        "    np.random.seed(seed)\n",
        "    torch.manual_seed(seed)\n",
        "    torch.cuda.manual_seed(seed)\n",
        "    # When running on the CuDNN backend, two further options must be set\n",
        "    torch.backends.cudnn.deterministic = True\n",
        "    torch.backends.cudnn.benchmark = False\n",
        "    # Set a fixed value for the hash seed\n",
        "    os.environ['PYTHONHASHSEED'] = str(seed)\n",
        "\n",
        "set_seed(CONFIG['seed'])"
      ]
    },
    {
      "cell_type": "code",
      "execution_count": null,
      "metadata": {
        "papermill": {
          "duration": 0.017083,
          "end_time": "2024-06-29T23:17:46.653209",
          "exception": false,
          "start_time": "2024-06-29T23:17:46.636126",
          "status": "completed"
        },
        "tags": [],
        "id": "pnXeePI20uyk",
        "outputId": "59c801c1-7c56-4157-b348-7c9d2dc7791c"
      },
      "outputs": [
        {
          "ename": "SyntaxError",
          "evalue": "(unicode error) 'unicodeescape' codec can't decode bytes in position 2-3: truncated \\UXXXXXXXX escape (1090516499.py, line 2)",
          "output_type": "error",
          "traceback": [
            "\u001b[1;36m  Cell \u001b[1;32mIn[18], line 2\u001b[1;36m\u001b[0m\n\u001b[1;33m    TRAIN_DIR = f\"C:\\Users\\hs106\\OneDrive\\Desktop\\ISIC\\train-image\"\u001b[0m\n\u001b[1;37m                                                                   ^\u001b[0m\n\u001b[1;31mSyntaxError\u001b[0m\u001b[1;31m:\u001b[0m (unicode error) 'unicodeescape' codec can't decode bytes in position 2-3: truncated \\UXXXXXXXX escape\n"
          ]
        }
      ],
      "source": [
        "ROOT_DIR = \"/kaggle/input/isic-2024-challenge\"\n",
        "TRAIN_DIR = f\"C:\\Users\\hs106\\OneDrive\\Desktop\\ISIC\\train-image\""
      ]
    },
    {
      "cell_type": "code",
      "execution_count": null,
      "metadata": {
        "papermill": {
          "duration": 0.017155,
          "end_time": "2024-06-29T23:17:46.681165",
          "exception": false,
          "start_time": "2024-06-29T23:17:46.66401",
          "status": "completed"
        },
        "tags": [],
        "id": "FxCusuSV0uyl"
      },
      "outputs": [],
      "source": [
        "def get_train_file_path(image_id):\n",
        "    return f\"train-image/image/{image_id}.jpg\""
      ]
    },
    {
      "cell_type": "code",
      "execution_count": null,
      "metadata": {
        "id": "oBl-YPQX0uyl"
      },
      "outputs": [],
      "source": [
        "train_images = sorted(glob.glob(f\"train-image/image/*.jpg\"))"
      ]
    },
    {
      "cell_type": "code",
      "execution_count": null,
      "metadata": {
        "papermill": {
          "duration": 7.631613,
          "end_time": "2024-06-29T23:17:58.409773",
          "exception": false,
          "start_time": "2024-06-29T23:17:50.77816",
          "status": "completed"
        },
        "tags": [],
        "id": "3_LOLOLs0uyl",
        "outputId": "0f14117a-3b65-45cf-e131-a5aff7b93261"
      },
      "outputs": [
        {
          "name": "stdout",
          "output_type": "stream",
          "text": [
            "        df.shape, # of positive cases, # of patients\n",
            "original> (401059, 55) 393 (1042,)\n",
            "filtered> (8253, 55) 393 (950,)\n"
          ]
        },
        {
          "data": {
            "text/html": [
              "<div>\n",
              "<style scoped>\n",
              "    .dataframe tbody tr th:only-of-type {\n",
              "        vertical-align: middle;\n",
              "    }\n",
              "\n",
              "    .dataframe tbody tr th {\n",
              "        vertical-align: top;\n",
              "    }\n",
              "\n",
              "    .dataframe thead th {\n",
              "        text-align: right;\n",
              "    }\n",
              "</style>\n",
              "<table border=\"1\" class=\"dataframe\">\n",
              "  <thead>\n",
              "    <tr style=\"text-align: right;\">\n",
              "      <th></th>\n",
              "      <th>isic_id</th>\n",
              "      <th>target</th>\n",
              "      <th>patient_id</th>\n",
              "      <th>age_approx</th>\n",
              "      <th>sex</th>\n",
              "      <th>anatom_site_general</th>\n",
              "      <th>clin_size_long_diam_mm</th>\n",
              "      <th>image_type</th>\n",
              "      <th>tbp_tile_type</th>\n",
              "      <th>tbp_lv_A</th>\n",
              "      <th>...</th>\n",
              "      <th>iddx_full</th>\n",
              "      <th>iddx_1</th>\n",
              "      <th>iddx_2</th>\n",
              "      <th>iddx_3</th>\n",
              "      <th>iddx_4</th>\n",
              "      <th>iddx_5</th>\n",
              "      <th>mel_mitotic_index</th>\n",
              "      <th>mel_thick_mm</th>\n",
              "      <th>tbp_lv_dnn_lesion_confidence</th>\n",
              "      <th>file_path</th>\n",
              "    </tr>\n",
              "  </thead>\n",
              "  <tbody>\n",
              "  </tbody>\n",
              "</table>\n",
              "<p>0 rows × 56 columns</p>\n",
              "</div>"
            ],
            "text/plain": [
              "Empty DataFrame\n",
              "Columns: [isic_id, target, patient_id, age_approx, sex, anatom_site_general, clin_size_long_diam_mm, image_type, tbp_tile_type, tbp_lv_A, tbp_lv_Aext, tbp_lv_B, tbp_lv_Bext, tbp_lv_C, tbp_lv_Cext, tbp_lv_H, tbp_lv_Hext, tbp_lv_L, tbp_lv_Lext, tbp_lv_areaMM2, tbp_lv_area_perim_ratio, tbp_lv_color_std_mean, tbp_lv_deltaA, tbp_lv_deltaB, tbp_lv_deltaL, tbp_lv_deltaLB, tbp_lv_deltaLBnorm, tbp_lv_eccentricity, tbp_lv_location, tbp_lv_location_simple, tbp_lv_minorAxisMM, tbp_lv_nevi_confidence, tbp_lv_norm_border, tbp_lv_norm_color, tbp_lv_perimeterMM, tbp_lv_radial_color_std_max, tbp_lv_stdL, tbp_lv_stdLExt, tbp_lv_symm_2axis, tbp_lv_symm_2axis_angle, tbp_lv_x, tbp_lv_y, tbp_lv_z, attribution, copyright_license, lesion_id, iddx_full, iddx_1, iddx_2, iddx_3, iddx_4, iddx_5, mel_mitotic_index, mel_thick_mm, tbp_lv_dnn_lesion_confidence, file_path]\n",
              "Index: []\n",
              "\n",
              "[0 rows x 56 columns]"
            ]
          },
          "execution_count": 16,
          "metadata": {},
          "output_type": "execute_result"
        }
      ],
      "source": [
        "df = pd.read_csv('train-metadata.csv')\n",
        "\n",
        "print(\"        df.shape, # of positive cases, # of patients\")\n",
        "print(\"original>\", df.shape, df.target.sum(), df[\"patient_id\"].unique().shape)\n",
        "\n",
        "df_positive = df[df[\"target\"] == 1].reset_index(drop=True)\n",
        "df_negative = df[df[\"target\"] == 0].reset_index(drop=True)\n",
        "\n",
        "df = pd.concat([df_positive, df_negative.iloc[:df_positive.shape[0]*20, :]])  # positive:negative = 1:20\n",
        "print(\"filtered>\", df.shape, df.target.sum(), df[\"patient_id\"].unique().shape)\n",
        "\n",
        "# df['file_path'] = df['isic_id'].apply(get_train_file_path)\n",
        "# df = df[ df[\"file_path\"].isin(train_images) ].reset_index(drop=True)\n",
        "df"
      ]
    },
    {
      "cell_type": "code",
      "execution_count": null,
      "metadata": {
        "execution": {
          "iopub.execute_input": "2024-08-28T10:31:47.798197Z",
          "iopub.status.busy": "2024-08-28T10:31:47.797888Z",
          "iopub.status.idle": "2024-08-28T10:31:47.806949Z",
          "shell.execute_reply": "2024-08-28T10:31:47.805439Z",
          "shell.execute_reply.started": "2024-08-28T10:31:47.798165Z"
        },
        "papermill": {
          "duration": 0.020088,
          "end_time": "2024-06-29T23:17:58.441777",
          "exception": false,
          "start_time": "2024-06-29T23:17:58.421689",
          "status": "completed"
        },
        "tags": [],
        "id": "8MbMxUBD0uyl",
        "outputId": "4afb1739-ec1a-46c2-fdaa-e7da64832b19"
      },
      "outputs": [
        {
          "data": {
            "text/plain": [
              "(8253, 393)"
            ]
          },
          "execution_count": 9,
          "metadata": {},
          "output_type": "execute_result"
        }
      ],
      "source": [
        "df.shape[0], df.target.sum()"
      ]
    },
    {
      "cell_type": "code",
      "execution_count": null,
      "metadata": {
        "execution": {
          "iopub.execute_input": "2024-08-28T10:31:47.811749Z",
          "iopub.status.busy": "2024-08-28T10:31:47.811160Z",
          "iopub.status.idle": "2024-08-28T10:31:47.820300Z",
          "shell.execute_reply": "2024-08-28T10:31:47.819153Z",
          "shell.execute_reply.started": "2024-08-28T10:31:47.811687Z"
        },
        "papermill": {
          "duration": 0.020234,
          "end_time": "2024-06-29T23:17:58.473737",
          "exception": false,
          "start_time": "2024-06-29T23:17:58.453503",
          "status": "completed"
        },
        "tags": [],
        "id": "4XgiYdj60uym",
        "outputId": "778dec8a-f0c3-44c4-adcf-57d0db4dde94"
      },
      "outputs": [
        {
          "data": {
            "text/plain": [
              "20632"
            ]
          },
          "execution_count": 10,
          "metadata": {},
          "output_type": "execute_result"
        }
      ],
      "source": [
        "CONFIG['T_max'] = df.shape[0] * (CONFIG[\"n_fold\"]-1) * CONFIG['epochs'] // CONFIG['train_batch_size'] // CONFIG[\"n_fold\"]\n",
        "CONFIG['T_max']"
      ]
    },
    {
      "cell_type": "code",
      "execution_count": null,
      "metadata": {
        "execution": {
          "iopub.execute_input": "2024-08-28T10:31:47.822422Z",
          "iopub.status.busy": "2024-08-28T10:31:47.821972Z",
          "iopub.status.idle": "2024-08-28T10:31:48.340000Z",
          "shell.execute_reply": "2024-08-28T10:31:48.338987Z",
          "shell.execute_reply.started": "2024-08-28T10:31:47.822363Z"
        },
        "papermill": {
          "duration": 0.466594,
          "end_time": "2024-06-29T23:17:58.975943",
          "exception": false,
          "start_time": "2024-06-29T23:17:58.509349",
          "status": "completed"
        },
        "tags": [],
        "id": "HG2WM3xg0uym"
      },
      "outputs": [],
      "source": [
        "sgkf = StratifiedGroupKFold(n_splits=CONFIG['n_fold'])\n",
        "\n",
        "for fold, ( _, val_) in enumerate(sgkf.split(df, df.target,df.patient_id)):\n",
        "      df.loc[val_ , \"kfold\"] = int(fold)"
      ]
    },
    {
      "cell_type": "code",
      "execution_count": null,
      "metadata": {
        "execution": {
          "iopub.execute_input": "2024-08-28T10:31:48.342204Z",
          "iopub.status.busy": "2024-08-28T10:31:48.341789Z",
          "iopub.status.idle": "2024-08-28T10:31:48.356058Z",
          "shell.execute_reply": "2024-08-28T10:31:48.354968Z",
          "shell.execute_reply.started": "2024-08-28T10:31:48.342153Z"
        },
        "papermill": {
          "duration": 0.027666,
          "end_time": "2024-06-29T23:17:59.039604",
          "exception": false,
          "start_time": "2024-06-29T23:17:59.011938",
          "status": "completed"
        },
        "tags": [],
        "id": "iQ4HKAFk0uym"
      },
      "outputs": [],
      "source": [
        "class ISICDataset_for_Train(Dataset):\n",
        "    def __init__(self, df, transforms=None):\n",
        "        self.df_positive = df[df[\"target\"] == 1].reset_index()\n",
        "        self.df_negative = df[df[\"target\"] == 0].reset_index()\n",
        "        self.file_names_positive = self.df_positive['file_path'].values\n",
        "        self.file_names_negative = self.df_negative['file_path'].values\n",
        "        self.targets_positive = self.df_positive['target'].values\n",
        "        self.targets_negative = self.df_negative['target'].values\n",
        "        self.transforms = transforms\n",
        "\n",
        "    def __len__(self):\n",
        "        return len(self.df_positive) * 2\n",
        "\n",
        "    def __getitem__(self, index):\n",
        "        if random.random() >= 0.5:\n",
        "            df = self.df_positive\n",
        "            file_names = self.file_names_positive\n",
        "            targets = self.targets_positive\n",
        "        else:\n",
        "            df = self.df_negative\n",
        "            file_names = self.file_names_negative\n",
        "            targets = self.targets_negative\n",
        "        index = index % df.shape[0]\n",
        "\n",
        "        img_path = file_names[index]\n",
        "        img = cv2.imread(img_path)\n",
        "        img = cv2.cvtColor(img, cv2.COLOR_BGR2RGB)\n",
        "        target = targets[index]\n",
        "\n",
        "        if self.transforms:\n",
        "            img = self.transforms(image=img)[\"image\"]\n",
        "\n",
        "        return {\n",
        "            'image': img,\n",
        "            'target': target\n",
        "        }\n",
        "\n",
        "class ISICDataset(Dataset):\n",
        "    def __init__(self, df, transforms=None):\n",
        "        self.df = df\n",
        "        self.file_names = df['file_path'].values\n",
        "        self.targets = df['target'].values\n",
        "        self.transforms = transforms\n",
        "\n",
        "    def __len__(self):\n",
        "        return len(self.df)\n",
        "\n",
        "    def __getitem__(self, index):\n",
        "        img_path = self.file_names[index]\n",
        "        img = cv2.imread(img_path)\n",
        "        img = cv2.cvtColor(img, cv2.COLOR_BGR2RGB)\n",
        "        target = self.targets[index]\n",
        "\n",
        "        if self.transforms:\n",
        "            img = self.transforms(image=img)[\"image\"]\n",
        "\n",
        "        return {\n",
        "            'image': img,\n",
        "            'target': target\n",
        "        }"
      ]
    },
    {
      "cell_type": "markdown",
      "metadata": {
        "papermill": {
          "duration": 0.011484,
          "end_time": "2024-06-29T23:17:59.062869",
          "exception": false,
          "start_time": "2024-06-29T23:17:59.051385",
          "status": "completed"
        },
        "tags": [],
        "id": "pQ22Cef60uym"
      },
      "source": [
        "# <span><h1 style = \"font-family: garamond; font-size: 40px; font-style: normal; letter-spcaing: 3px; background-color: #f6f5f5; color :#fe346e; border-radius: 100px 100px; text-align:center\">Augmentations</h1></span>"
      ]
    },
    {
      "cell_type": "code",
      "execution_count": null,
      "metadata": {
        "execution": {
          "iopub.execute_input": "2024-08-28T10:31:48.379265Z",
          "iopub.status.busy": "2024-08-28T10:31:48.378831Z",
          "iopub.status.idle": "2024-08-28T10:31:48.391952Z",
          "shell.execute_reply": "2024-08-28T10:31:48.390892Z",
          "shell.execute_reply.started": "2024-08-28T10:31:48.379220Z"
        },
        "id": "QW8by8Gu0uym"
      },
      "outputs": [],
      "source": [
        "\n",
        "# data_transforms = {\n",
        "#     \"train\": A.Compose([\n",
        "#         A.Transpose(p=0.5),\n",
        "#         A.VerticalFlip(p=0.5),\n",
        "#         A.HorizontalFlip(p=0.5),\n",
        "#         A.RandomBrightnessContrast(limit=0.2, p=0.75),\n",
        "# #         A.RandomContrast(limit=0.2, p=0.75),\n",
        "#         A.OneOf([\n",
        "#             A.MotionBlur(blur_limit=5),\n",
        "#             A.MedianBlur(blur_limit=5),\n",
        "#             A.GaussianBlur(blur_limit=5),\n",
        "#             A.GaussNoise(var_limit=(5.0, 30.0)),\n",
        "#         ], p=0.7),\n",
        "#         A.OneOf([\n",
        "#             A.OpticalDistortion(distort_limit=1.0),\n",
        "#             A.GridDistortion(num_steps=5, distort_limit=1.0),\n",
        "#             A.ElasticTransform(alpha=3),\n",
        "#         ], p=0.7),\n",
        "#         A.CLAHE(clip_limit=4.0, p=0.7),\n",
        "#         A.HueSaturationValue(hue_shift_limit=10, sat_shift_limit=20, val_shift_limit=10, p=0.5),\n",
        "#         A.ShiftScaleRotate(shift_limit=0.1, scale_limit=0.1, rotate_limit=15, border_mode=0, p=0.85),\n",
        "#         A.Resize(CONFIG['img_size'], CONFIG['img_size']),\n",
        "#         A.CoarseDropout(max_h_size=int(CONFIG['img_size'] * 0.375), max_w_size=int(CONFIG['img_size'] * 0.375), num_holes=1, p=0.7),\n",
        "#         A.Normalize(\n",
        "#             mean=[0.485, 0.456, 0.406],\n",
        "#             std=[0.229, 0.224, 0.225],\n",
        "#             max_pixel_value=255.0,\n",
        "#             p=1.0\n",
        "#         ),\n",
        "#         ToTensorV2()\n",
        "#     ], p=1.0),\n",
        "\n",
        "#     \"valid\": A.Compose([\n",
        "#         A.Resize(CONFIG['img_size'], CONFIG['img_size']),\n",
        "#         A.Normalize(\n",
        "#             mean=[0.485, 0.456, 0.406],\n",
        "#             std=[0.229, 0.224, 0.225],\n",
        "#             max_pixel_value=255.0,\n",
        "#             p=1.0\n",
        "#         ),\n",
        "#         ToTensorV2()\n",
        "#     ], p=1.0)\n",
        "# }"
      ]
    },
    {
      "cell_type": "code",
      "execution_count": null,
      "metadata": {
        "execution": {
          "iopub.execute_input": "2024-08-28T10:31:48.394331Z",
          "iopub.status.busy": "2024-08-28T10:31:48.393632Z",
          "iopub.status.idle": "2024-08-28T10:31:48.408008Z",
          "shell.execute_reply": "2024-08-28T10:31:48.407061Z",
          "shell.execute_reply.started": "2024-08-28T10:31:48.394270Z"
        },
        "papermill": {
          "duration": 0.023138,
          "end_time": "2024-06-29T23:17:59.09779",
          "exception": false,
          "start_time": "2024-06-29T23:17:59.074652",
          "status": "completed"
        },
        "tags": [],
        "id": "H8ao_sHA0uym"
      },
      "outputs": [],
      "source": [
        "data_transforms = {\n",
        "    \"train\": A.Compose([\n",
        "        A.Resize(CONFIG['img_size'], CONFIG['img_size']),\n",
        "        A.RandomRotate90(p=0.5),\n",
        "        A.Flip(p=0.5),\n",
        "        A.Downscale(p=0.25),\n",
        "        A.ShiftScaleRotate(shift_limit=0.1,\n",
        "                           scale_limit=0.15,\n",
        "                           rotate_limit=60,\n",
        "                           p=0.5),\n",
        "        A.HueSaturationValue(\n",
        "                hue_shift_limit=0.2,\n",
        "                sat_shift_limit=0.2,\n",
        "                val_shift_limit=0.2,\n",
        "                p=0.5\n",
        "            ),\n",
        "        A.RandomBrightnessContrast(\n",
        "                brightness_limit=(-0.1,0.1),\n",
        "                contrast_limit=(-0.1, 0.1),\n",
        "                p=0.5\n",
        "            ),\n",
        "        A.Normalize(\n",
        "                mean=[0.485, 0.456, 0.406],\n",
        "                std=[0.229, 0.224, 0.225],\n",
        "#             mean = (0.672, 0.492, 0.405),\n",
        "#             std = (0.057, 0.063, 0.059),\n",
        "                max_pixel_value=255.0,\n",
        "                p=1.0\n",
        "            ),\n",
        "        ToTensorV2()], p=1.),\n",
        "\n",
        "    \"valid\": A.Compose([\n",
        "        A.Resize(CONFIG['img_size'], CONFIG['img_size']),\n",
        "        A.Normalize(\n",
        "                mean=[0.485, 0.456, 0.406],\n",
        "                std=[0.229, 0.224, 0.225],\n",
        "#             mean = (0.672, 0.492, 0.405),\n",
        "#             std = (0.057, 0.063, 0.059),\n",
        "                max_pixel_value=255.0,\n",
        "                p=1.0\n",
        "            ),\n",
        "        ToTensorV2()], p=1.)\n",
        "}"
      ]
    },
    {
      "cell_type": "markdown",
      "metadata": {
        "papermill": {
          "duration": 0.01177,
          "end_time": "2024-06-29T23:17:59.121504",
          "exception": false,
          "start_time": "2024-06-29T23:17:59.109734",
          "status": "completed"
        },
        "tags": [],
        "id": "Ebk5wpdu0uym"
      },
      "source": [
        "# <span><h1 style = \"font-family: garamond; font-size: 40px; font-style: normal; letter-spcaing: 3px; background-color: #f6f5f5; color :#fe346e; border-radius: 100px 100px; text-align:center\">GeM Pooling</h1></span>"
      ]
    },
    {
      "cell_type": "code",
      "execution_count": null,
      "metadata": {
        "execution": {
          "iopub.execute_input": "2024-08-28T10:31:49.195037Z",
          "iopub.status.busy": "2024-08-28T10:31:49.194371Z",
          "iopub.status.idle": "2024-08-28T10:31:49.203301Z",
          "shell.execute_reply": "2024-08-28T10:31:49.202287Z",
          "shell.execute_reply.started": "2024-08-28T10:31:49.194997Z"
        },
        "papermill": {
          "duration": 0.02223,
          "end_time": "2024-06-29T23:17:59.155728",
          "exception": false,
          "start_time": "2024-06-29T23:17:59.133498",
          "status": "completed"
        },
        "tags": [],
        "id": "L7zkv8WO0uym"
      },
      "outputs": [],
      "source": [
        "class GeM(nn.Module):\n",
        "    def __init__(self, p=3, eps=1e-6):\n",
        "        super(GeM, self).__init__()\n",
        "        self.p = nn.Parameter(torch.ones(1)*p)\n",
        "        self.eps = eps\n",
        "\n",
        "    def forward(self, x):\n",
        "        return self.gem(x, p=self.p, eps=self.eps)\n",
        "\n",
        "    def gem(self, x, p=3, eps=1e-6):\n",
        "        return F.avg_pool2d(x.clamp(min=eps).pow(p), (x.size(-2), x.size(-1))).pow(1./p)\n",
        "\n",
        "    def __repr__(self):\n",
        "        return self.__class__.__name__ + \\\n",
        "                '(' + 'p=' + '{:.4f}'.format(self.p.data.tolist()[0]) + \\\n",
        "                ', ' + 'eps=' + str(self.eps) + ')'"
      ]
    },
    {
      "cell_type": "markdown",
      "metadata": {
        "papermill": {
          "duration": 0.011546,
          "end_time": "2024-06-29T23:17:59.179102",
          "exception": false,
          "start_time": "2024-06-29T23:17:59.167556",
          "status": "completed"
        },
        "tags": [],
        "id": "h_6gSvrT0uyn"
      },
      "source": [
        "# <span><h1 style = \"font-family: garamond; font-size: 40px; font-style: normal; letter-spcaing: 3px; background-color: #f6f5f5; color :#fe346e; border-radius: 100px 100px; text-align:center\">Create Model</h1></span>"
      ]
    },
    {
      "cell_type": "code",
      "execution_count": null,
      "metadata": {
        "execution": {
          "iopub.execute_input": "2024-08-28T10:31:53.958239Z",
          "iopub.status.busy": "2024-08-28T10:31:53.957862Z",
          "iopub.status.idle": "2024-08-28T10:31:55.154341Z",
          "shell.execute_reply": "2024-08-28T10:31:55.153216Z",
          "shell.execute_reply.started": "2024-08-28T10:31:53.958203Z"
        },
        "papermill": {
          "duration": 1.183958,
          "end_time": "2024-06-29T23:18:00.375162",
          "exception": false,
          "start_time": "2024-06-29T23:17:59.191204",
          "status": "completed"
        },
        "tags": [],
        "colab": {
          "referenced_widgets": [
            "b0db023b3842445e837c4bacc93bfd64"
          ]
        },
        "id": "9s9HrDQb0uyn",
        "outputId": "5c9e1c27-0237-4142-b3f7-e8b4bcbc6021"
      },
      "outputs": [
        {
          "data": {
            "application/vnd.jupyter.widget-view+json": {
              "model_id": "b0db023b3842445e837c4bacc93bfd64",
              "version_major": 2,
              "version_minor": 0
            },
            "text/plain": [
              "model.safetensors:   0%|          | 0.00/50.8M [00:00<?, ?B/s]"
            ]
          },
          "metadata": {},
          "output_type": "display_data"
        }
      ],
      "source": [
        "class ISICModel(nn.Module):\n",
        "    def __init__(self, model_name, num_classes=1, pretrained=True, checkpoint_path=None):\n",
        "        super(ISICModel, self).__init__()\n",
        "#         self.model = timm.create_model(model_name, pretrained=pretrained, checkpoint_path=checkpoint_path)\n",
        "        self.model = model_name\n",
        "        self.model.classifier = nn.Conv2d(832, 1, kernel_size = (1,1), stride = (1,1))\n",
        "#         in_features = self.model.classifier.in_features\n",
        "#         self.model.classifier = nn.Identity()\n",
        "#         self.model.global_pool = nn.Identity()\n",
        "        self.model.global_pool = GeM()\n",
        "#         self.pooling = GeM()\n",
        "#         self.linear = nn.Linear(in_features, num_classes)\n",
        "        self.sigmoid = nn.Sigmoid()\n",
        "\n",
        "    def forward(self, images):\n",
        "        features = self.model(images)\n",
        "#         pooled_features = self.pooling(features).flatten(1)\n",
        "#         pooled_features = self.pooling(features)\n",
        "#         output = self.linear(pooled_features)\n",
        "        output = self.sigmoid(self.model(images))\n",
        "        return output\n",
        "\n",
        "\n",
        "# model = ISICModel(CONFIG['hf_hub:timm/densenet121.tv_in1k'])\n",
        "model1 = timm.create_model('dpn68.mx_in1k', pretrained=True)\n",
        "# model1.classifier = nn.Conv2d(832, 1, kernel_size = (1,1), stride = (1,1))\n",
        "# model = ISICModel('efficientnet_b3')\n",
        "model = ISICModel(model1)\n",
        "# , checkpoint_path=CONFIG['checkpoint_path']\n",
        "model.to(CONFIG['device']);"
      ]
    },
    {
      "cell_type": "markdown",
      "metadata": {
        "papermill": {
          "duration": 0.012134,
          "end_time": "2024-06-29T23:18:00.400146",
          "exception": false,
          "start_time": "2024-06-29T23:18:00.388012",
          "status": "completed"
        },
        "tags": [],
        "id": "pJdiGxC-0uyn"
      },
      "source": [
        "# <span><h1 style = \"font-family: garamond; font-size: 40px; font-style: normal; letter-spcaing: 3px; background-color: #f6f5f5; color :#fe346e; border-radius: 100px 100px; text-align:center\">Loss Function</h1></span>"
      ]
    },
    {
      "cell_type": "code",
      "execution_count": null,
      "metadata": {
        "execution": {
          "iopub.execute_input": "2024-08-28T10:31:56.793232Z",
          "iopub.status.busy": "2024-08-28T10:31:56.792595Z",
          "iopub.status.idle": "2024-08-28T10:31:56.798584Z",
          "shell.execute_reply": "2024-08-28T10:31:56.797522Z",
          "shell.execute_reply.started": "2024-08-28T10:31:56.793195Z"
        },
        "papermill": {
          "duration": 0.020023,
          "end_time": "2024-06-29T23:18:00.432262",
          "exception": false,
          "start_time": "2024-06-29T23:18:00.412239",
          "status": "completed"
        },
        "tags": [],
        "id": "qLJejpbO0uyn"
      },
      "outputs": [],
      "source": [
        "def criterion(outputs, targets):\n",
        "    return nn.BCELoss()(outputs, targets)"
      ]
    },
    {
      "cell_type": "code",
      "execution_count": null,
      "metadata": {
        "execution": {
          "iopub.execute_input": "2024-08-28T10:31:57.300876Z",
          "iopub.status.busy": "2024-08-28T10:31:57.300468Z",
          "iopub.status.idle": "2024-08-28T10:31:57.307589Z",
          "shell.execute_reply": "2024-08-28T10:31:57.306582Z",
          "shell.execute_reply.started": "2024-08-28T10:31:57.300838Z"
        },
        "id": "2FAFd0p60uyn"
      },
      "outputs": [],
      "source": [
        "def score(y_pred, y_true):\n",
        "#     with torch.inference_mode():\n",
        "#         y_pred = nn.functional.sigmoid(y_pred)\n",
        "    y_true = y_true.detach().cpu().numpy()\n",
        "    y_pred = y_pred.detach().cpu().numpy()\n",
        "    min_tpr=0.8\n",
        "    v_gt = abs(np.asarray(y_true)-1)\n",
        "    v_pred = np.array([1.0 - x for x in y_pred])\n",
        "    max_fpr = abs(1-min_tpr)\n",
        "    partial_auc_scaled = roc_auc_score(v_gt, v_pred, max_fpr=max_fpr)\n",
        "    partial_auc = 0.5 * max_fpr**2 + (max_fpr - 0.5 * max_fpr**2) / (1.0 - 0.5) * (partial_auc_scaled - 0.5)\n",
        "    return partial_auc"
      ]
    },
    {
      "cell_type": "markdown",
      "metadata": {
        "papermill": {
          "duration": 0.011944,
          "end_time": "2024-06-29T23:18:00.456944",
          "exception": false,
          "start_time": "2024-06-29T23:18:00.445",
          "status": "completed"
        },
        "tags": [],
        "id": "9yD3YWs30uyn"
      },
      "source": [
        "# <span><h1 style = \"font-family: garamond; font-size: 40px; font-style: normal; letter-spcaing: 3px; background-color: #f6f5f5; color :#fe346e; border-radius: 100px 100px; text-align:center\">Training Function</h1></span>"
      ]
    },
    {
      "cell_type": "code",
      "execution_count": null,
      "metadata": {
        "execution": {
          "iopub.execute_input": "2024-08-28T10:31:58.503703Z",
          "iopub.status.busy": "2024-08-28T10:31:58.503275Z",
          "iopub.status.idle": "2024-08-28T10:31:58.514056Z",
          "shell.execute_reply": "2024-08-28T10:31:58.513038Z",
          "shell.execute_reply.started": "2024-08-28T10:31:58.503665Z"
        },
        "papermill": {
          "duration": 0.024329,
          "end_time": "2024-06-29T23:18:00.493233",
          "exception": false,
          "start_time": "2024-06-29T23:18:00.468904",
          "status": "completed"
        },
        "tags": [],
        "id": "QQekYO8x0uyn"
      },
      "outputs": [],
      "source": [
        "def train_one_epoch(model, optimizer, scheduler, dataloader, device, epoch):\n",
        "    model.train()\n",
        "\n",
        "    dataset_size = 0\n",
        "    running_loss = 0.0\n",
        "    running_auroc  = 0.0\n",
        "    preds, labels = [], []\n",
        "\n",
        "    bar = tqdm(enumerate(dataloader), total=len(dataloader))\n",
        "    for step, data in bar:\n",
        "        images = data['image'].to(device, dtype=torch.float)\n",
        "        targets = data['target'].to(device, dtype=torch.float)\n",
        "\n",
        "        batch_size = images.size(0)\n",
        "\n",
        "        outputs = model(images).squeeze()\n",
        "\n",
        "        loss = criterion(outputs, targets)\n",
        "        loss = loss / CONFIG['n_accumulate']\n",
        "\n",
        "        loss.backward()\n",
        "\n",
        "        if (step + 1) % CONFIG['n_accumulate'] == 0:\n",
        "            optimizer.step()\n",
        "\n",
        "            # zero the parameter gradients\n",
        "            optimizer.zero_grad()\n",
        "\n",
        "            if scheduler is not None:\n",
        "                scheduler.step()\n",
        "\n",
        "        auroc = score(outputs.squeeze(), targets).item()\n",
        "\n",
        "        running_loss += (loss.item() * batch_size)\n",
        "        running_auroc  += (auroc * batch_size)\n",
        "        dataset_size += batch_size\n",
        "\n",
        "        epoch_loss = running_loss / dataset_size\n",
        "        epoch_auroc = running_auroc / dataset_size\n",
        "\n",
        "        bar.set_postfix(Epoch=epoch, Train_Loss=epoch_loss, Train_Auroc=epoch_auroc,\n",
        "                        LR=optimizer.param_groups[0]['lr'])\n",
        "    gc.collect()\n",
        "\n",
        "    return epoch_loss, epoch_auroc"
      ]
    },
    {
      "cell_type": "markdown",
      "metadata": {
        "papermill": {
          "duration": 0.011634,
          "end_time": "2024-06-29T23:18:00.516892",
          "exception": false,
          "start_time": "2024-06-29T23:18:00.505258",
          "status": "completed"
        },
        "tags": [],
        "id": "fBzkPMLZ0uyn"
      },
      "source": [
        "# <span><h1 style = \"font-family: garamond; font-size: 40px; font-style: normal; letter-spcaing: 3px; background-color: #f6f5f5; color :#fe346e; border-radius: 100px 100px; text-align:center\">Validation Function</h1></span>"
      ]
    },
    {
      "cell_type": "code",
      "execution_count": null,
      "metadata": {
        "execution": {
          "iopub.execute_input": "2024-08-28T10:31:59.406086Z",
          "iopub.status.busy": "2024-08-28T10:31:59.405703Z",
          "iopub.status.idle": "2024-08-28T10:31:59.415724Z",
          "shell.execute_reply": "2024-08-28T10:31:59.414728Z",
          "shell.execute_reply.started": "2024-08-28T10:31:59.406048Z"
        },
        "papermill": {
          "duration": 0.02315,
          "end_time": "2024-06-29T23:18:00.551972",
          "exception": false,
          "start_time": "2024-06-29T23:18:00.528822",
          "status": "completed"
        },
        "tags": [],
        "id": "TryfnyU40uyn"
      },
      "outputs": [],
      "source": [
        "@torch.inference_mode()\n",
        "def valid_one_epoch(model, dataloader, device, epoch):\n",
        "    model.eval()\n",
        "\n",
        "    dataset_size = 0\n",
        "    running_loss = 0.0\n",
        "    running_auroc = 0.0\n",
        "    preds, labels = [], []\n",
        "\n",
        "    bar = tqdm(enumerate(dataloader), total=len(dataloader))\n",
        "    for step, data in bar:\n",
        "        images = data['image'].to(device, dtype=torch.float)\n",
        "        targets = data['target'].to(device, dtype=torch.float)\n",
        "\n",
        "        batch_size = images.size(0)\n",
        "\n",
        "        outputs = model(images).squeeze()\n",
        "        with torch.inference_mode():\n",
        "            preds.append(outputs)\n",
        "            labels.append(targets)\n",
        "        loss = criterion(outputs, targets)\n",
        "\n",
        "#         auroc = score(outputs.squeeze(), targets).item()\n",
        "        running_loss += (loss.item() * batch_size)\n",
        "#         running_auroc  += (auroc * batch_size)\n",
        "        dataset_size += batch_size\n",
        "\n",
        "        epoch_loss = running_loss / dataset_size\n",
        "#     epoch_auroc = running_auroc / dataset_size\n",
        "    epoch_auroc = score(torch.cat(preds, dim = 0), torch.cat(labels, dim = 0))\n",
        "    print(f'val_pauc for epoch: {epoch} : {epoch_auroc}')\n",
        "\n",
        "    bar.set_postfix(Epoch=epoch, Valid_Loss=epoch_loss, Valid_Auroc=epoch_auroc,\n",
        "                    LR=optimizer.param_groups[0]['lr'])\n",
        "\n",
        "    gc.collect()\n",
        "\n",
        "    return epoch_loss, epoch_auroc"
      ]
    },
    {
      "cell_type": "markdown",
      "metadata": {
        "papermill": {
          "duration": 0.011798,
          "end_time": "2024-06-29T23:18:00.575765",
          "exception": false,
          "start_time": "2024-06-29T23:18:00.563967",
          "status": "completed"
        },
        "tags": [],
        "id": "oK2AA9uy0uyn"
      },
      "source": [
        "# <span><h1 style = \"font-family: garamond; font-size: 40px; font-style: normal; letter-spcaing: 3px; background-color: #f6f5f5; color :#fe346e; border-radius: 100px 100px; text-align:center\">Run Training</h1></span>"
      ]
    },
    {
      "cell_type": "code",
      "execution_count": null,
      "metadata": {
        "execution": {
          "iopub.execute_input": "2024-08-28T10:32:00.042009Z",
          "iopub.status.busy": "2024-08-28T10:32:00.041614Z",
          "iopub.status.idle": "2024-08-28T10:32:00.053749Z",
          "shell.execute_reply": "2024-08-28T10:32:00.052754Z",
          "shell.execute_reply.started": "2024-08-28T10:32:00.041972Z"
        },
        "papermill": {
          "duration": 0.026227,
          "end_time": "2024-06-29T23:18:00.614057",
          "exception": false,
          "start_time": "2024-06-29T23:18:00.58783",
          "status": "completed"
        },
        "tags": [],
        "id": "_JHX67V20uyo"
      },
      "outputs": [],
      "source": [
        "def run_training(model, optimizer, scheduler, device, num_epochs):\n",
        "    if torch.cuda.is_available():\n",
        "        print(\"[INFO] Using GPU: {}\\n\".format(torch.cuda.get_device_name()))\n",
        "\n",
        "    start = time.time()\n",
        "    best_model_wts = copy.deepcopy(model.state_dict())\n",
        "    best_epoch_auroc = -np.inf\n",
        "    history = defaultdict(list)\n",
        "\n",
        "    for epoch in range(1, num_epochs + 1):\n",
        "        gc.collect()\n",
        "#         torch.cuda.empty_cache()\n",
        "        train_epoch_loss, train_epoch_auroc = train_one_epoch(model, optimizer, scheduler,\n",
        "                                           dataloader=train_loader,\n",
        "                                           device=CONFIG['device'], epoch=epoch)\n",
        "\n",
        "        val_epoch_loss, val_epoch_auroc = valid_one_epoch(model, valid_loader, device=CONFIG['device'],\n",
        "                                         epoch=epoch)\n",
        "\n",
        "        history['Train Loss'].append(train_epoch_loss)\n",
        "        history['Valid Loss'].append(val_epoch_loss)\n",
        "        history['Train AUROC'].append(train_epoch_auroc)\n",
        "        history['Valid AUROC'].append(val_epoch_auroc)\n",
        "        history['lr'].append( scheduler.get_lr()[0] )\n",
        "\n",
        "        # deep copy the model\n",
        "        if best_epoch_auroc <= val_epoch_auroc:\n",
        "            print(f\"{b_}Validation AUROC Improved ({best_epoch_auroc} ---> {val_epoch_auroc})\")\n",
        "            best_epoch_auroc = val_epoch_auroc\n",
        "            best_model_wts = copy.deepcopy(model.state_dict())\n",
        "            PATH = \"AUROC{:.4f}_Loss{:.4f}_epoch{:.0f}.bin\".format(val_epoch_auroc, val_epoch_loss, epoch)\n",
        "            torch.save(model.state_dict(), PATH)\n",
        "            # Save a model file from the current directory\n",
        "            print(f\"Model Saved{sr_}\")\n",
        "\n",
        "        print()\n",
        "        torch.cuda.empty_cache()\n",
        "\n",
        "    end = time.time()\n",
        "    time_elapsed = end - start\n",
        "    print('Training complete in {:.0f}h {:.0f}m {:.0f}s'.format(\n",
        "        time_elapsed // 3600, (time_elapsed % 3600) // 60, (time_elapsed % 3600) % 60))\n",
        "    print(\"Best AUROC: {:.4f}\".format(best_epoch_auroc))\n",
        "\n",
        "    # load best model weights\n",
        "    model.load_state_dict(best_model_wts)\n",
        "\n",
        "    return model, history"
      ]
    },
    {
      "cell_type": "code",
      "execution_count": null,
      "metadata": {
        "execution": {
          "iopub.execute_input": "2024-08-28T10:32:00.410662Z",
          "iopub.status.busy": "2024-08-28T10:32:00.410261Z",
          "iopub.status.idle": "2024-08-28T10:32:00.416731Z",
          "shell.execute_reply": "2024-08-28T10:32:00.415808Z",
          "shell.execute_reply.started": "2024-08-28T10:32:00.410624Z"
        },
        "papermill": {
          "duration": 0.020426,
          "end_time": "2024-06-29T23:18:00.646386",
          "exception": false,
          "start_time": "2024-06-29T23:18:00.62596",
          "status": "completed"
        },
        "tags": [],
        "id": "V_8Bde9v0uyo"
      },
      "outputs": [],
      "source": [
        "def fetch_scheduler(optimizer):\n",
        "    if CONFIG['scheduler'] == 'CosineAnnealingLR':\n",
        "        scheduler = lr_scheduler.CosineAnnealingLR(optimizer,T_max=CONFIG['T_max'],\n",
        "                                                   eta_min=CONFIG['min_lr'])\n",
        "    elif CONFIG['scheduler'] == 'CosineAnnealingWarmRestarts':\n",
        "        scheduler = lr_scheduler.CosineAnnealingWarmRestarts(optimizer,T_0=CONFIG['T_0'],\n",
        "                                                             eta_min=CONFIG['min_lr'],\n",
        "                                                            T_mult = 2)\n",
        "    elif CONFIG['scheduler'] == None:\n",
        "        return None\n",
        "\n",
        "    return scheduler"
      ]
    },
    {
      "cell_type": "code",
      "execution_count": null,
      "metadata": {
        "execution": {
          "iopub.execute_input": "2024-08-28T10:32:00.642225Z",
          "iopub.status.busy": "2024-08-28T10:32:00.641846Z",
          "iopub.status.idle": "2024-08-28T10:32:00.649571Z",
          "shell.execute_reply": "2024-08-28T10:32:00.648404Z",
          "shell.execute_reply.started": "2024-08-28T10:32:00.642192Z"
        },
        "papermill": {
          "duration": 0.02047,
          "end_time": "2024-06-29T23:18:00.678761",
          "exception": false,
          "start_time": "2024-06-29T23:18:00.658291",
          "status": "completed"
        },
        "tags": [],
        "id": "y1YBCmfD0uyo"
      },
      "outputs": [],
      "source": [
        "def prepare_loaders(df, fold):\n",
        "    df_train = df[df.kfold != fold].reset_index(drop=True)\n",
        "    df_valid = df[df.kfold == fold].reset_index(drop=True)\n",
        "\n",
        "    train_dataset = ISICDataset_for_Train(df_train, transforms=data_transforms[\"train\"])\n",
        "    valid_dataset = ISICDataset(df_valid, transforms=data_transforms[\"valid\"])\n",
        "\n",
        "    train_loader = DataLoader(train_dataset, batch_size=CONFIG['train_batch_size'],\n",
        "                              num_workers=2, shuffle=True, pin_memory=False, drop_last=True)\n",
        "    valid_loader = DataLoader(valid_dataset, batch_size=CONFIG['valid_batch_size'],\n",
        "                              num_workers=2, shuffle=False, pin_memory=False)\n",
        "\n",
        "    return train_loader, valid_loader"
      ]
    },
    {
      "cell_type": "markdown",
      "metadata": {
        "papermill": {
          "duration": 0.011803,
          "end_time": "2024-06-29T23:18:00.702461",
          "exception": false,
          "start_time": "2024-06-29T23:18:00.690658",
          "status": "completed"
        },
        "tags": [],
        "id": "KBU1jnkk0uyo"
      },
      "source": [
        "<span style=\"color: #000508; font-family: Segoe UI; font-size: 1.5em; font-weight: 300;\">Prepare Dataloaders</span>"
      ]
    },
    {
      "cell_type": "code",
      "execution_count": null,
      "metadata": {
        "execution": {
          "iopub.execute_input": "2024-08-28T10:32:01.413759Z",
          "iopub.status.busy": "2024-08-28T10:32:01.412763Z",
          "iopub.status.idle": "2024-08-28T10:32:01.433519Z",
          "shell.execute_reply": "2024-08-28T10:32:01.432717Z",
          "shell.execute_reply.started": "2024-08-28T10:32:01.413717Z"
        },
        "papermill": {
          "duration": 0.033503,
          "end_time": "2024-06-29T23:18:00.747996",
          "exception": false,
          "start_time": "2024-06-29T23:18:00.714493",
          "status": "completed"
        },
        "tags": [],
        "id": "iOIP_HI80uyo"
      },
      "outputs": [],
      "source": [
        "train_loader, valid_loader = prepare_loaders(df, fold=CONFIG[\"fold\"])"
      ]
    },
    {
      "cell_type": "markdown",
      "metadata": {
        "papermill": {
          "duration": 0.012164,
          "end_time": "2024-06-29T23:18:00.772504",
          "exception": false,
          "start_time": "2024-06-29T23:18:00.76034",
          "status": "completed"
        },
        "tags": [],
        "id": "Mpbsw01Z0uyo"
      },
      "source": [
        "<span style=\"color: #000508; font-family: Segoe UI; font-size: 1.5em; font-weight: 300;\">Define Optimizer and Scheduler</span>"
      ]
    },
    {
      "cell_type": "code",
      "execution_count": null,
      "metadata": {
        "execution": {
          "iopub.execute_input": "2024-08-28T10:32:03.312366Z",
          "iopub.status.busy": "2024-08-28T10:32:03.311988Z",
          "iopub.status.idle": "2024-08-28T10:32:03.316630Z",
          "shell.execute_reply": "2024-08-28T10:32:03.315564Z",
          "shell.execute_reply.started": "2024-08-28T10:32:03.312332Z"
        },
        "id": "3IwchMMC0uyr"
      },
      "outputs": [],
      "source": [
        "# for params in model.parameters():\n",
        "#     print(params.requires_grad)\n",
        "# # model.classifier.parameters.requires_grad = True"
      ]
    },
    {
      "cell_type": "code",
      "execution_count": null,
      "metadata": {
        "execution": {
          "iopub.execute_input": "2024-08-28T10:32:03.546502Z",
          "iopub.status.busy": "2024-08-28T10:32:03.545494Z",
          "iopub.status.idle": "2024-08-28T10:32:03.553383Z",
          "shell.execute_reply": "2024-08-28T10:32:03.552466Z",
          "shell.execute_reply.started": "2024-08-28T10:32:03.546461Z"
        },
        "papermill": {
          "duration": 0.021007,
          "end_time": "2024-06-29T23:18:00.805494",
          "exception": false,
          "start_time": "2024-06-29T23:18:00.784487",
          "status": "completed"
        },
        "tags": [],
        "id": "_zE9gS8z0uyr"
      },
      "outputs": [],
      "source": [
        "optimizer = optim.Adam(model.parameters(), lr=CONFIG['learning_rate'],\n",
        "                       weight_decay=CONFIG['weight_decay'])\n",
        "scheduler = fetch_scheduler(optimizer)"
      ]
    },
    {
      "cell_type": "markdown",
      "metadata": {
        "papermill": {
          "duration": 0.011766,
          "end_time": "2024-06-29T23:18:00.872059",
          "exception": false,
          "start_time": "2024-06-29T23:18:00.860293",
          "status": "completed"
        },
        "tags": [],
        "id": "bfFIoWSL0uyr"
      },
      "source": [
        "<span style=\"color: #000508; font-family: Segoe UI; font-size: 1.5em; font-weight: 300;\">Start Training</span>"
      ]
    },
    {
      "cell_type": "code",
      "execution_count": null,
      "metadata": {
        "execution": {
          "iopub.execute_input": "2024-08-28T10:32:06.044596Z",
          "iopub.status.busy": "2024-08-28T10:32:06.044199Z"
        },
        "papermill": {
          "duration": 745.635338,
          "end_time": "2024-06-29T23:30:26.519348",
          "exception": false,
          "start_time": "2024-06-29T23:18:00.88401",
          "status": "completed"
        },
        "tags": [],
        "id": "kbVWYt9O0uyr",
        "outputId": "a5b4cf2c-3331-49a6-cda4-2366ebb9c49f"
      },
      "outputs": [
        {
          "name": "stdout",
          "output_type": "stream",
          "text": [
            "[INFO] Using GPU: Tesla P100-PCIE-16GB\n",
            "\n"
          ]
        },
        {
          "name": "stderr",
          "output_type": "stream",
          "text": [
            "100%|██████████| 39/39 [00:40<00:00,  1.03s/it, Epoch=1, LR=0.0001, Train_Auroc=0.085, Train_Loss=0.626] \n",
            "100%|██████████| 26/26 [00:19<00:00,  1.33it/s]\n"
          ]
        },
        {
          "name": "stdout",
          "output_type": "stream",
          "text": [
            "val_pauc for epoch: 1 : 0.11578735465584433\n",
            "\u001b[34mValidation AUROC Improved (-inf ---> 0.11578735465584433)\n",
            "Model Saved\u001b[0m\n",
            "\n"
          ]
        },
        {
          "name": "stderr",
          "output_type": "stream",
          "text": [
            "100%|██████████| 39/39 [00:38<00:00,  1.01it/s, Epoch=2, LR=0.0001, Train_Auroc=0.123, Train_Loss=0.504]\n",
            " 50%|█████     | 13/26 [00:10<00:09,  1.35it/s]"
          ]
        }
      ],
      "source": [
        "model, history = run_training(model, optimizer, scheduler,\n",
        "                              device=CONFIG['device'],\n",
        "                              num_epochs=CONFIG['epochs'])"
      ]
    },
    {
      "cell_type": "code",
      "execution_count": null,
      "metadata": {
        "execution": {
          "iopub.status.busy": "2024-08-27T14:32:14.051706Z",
          "iopub.status.idle": "2024-08-27T14:32:14.052227Z",
          "shell.execute_reply": "2024-08-27T14:32:14.051976Z",
          "shell.execute_reply.started": "2024-08-27T14:32:14.051950Z"
        },
        "id": "sNB1AihO0uyr"
      },
      "outputs": [],
      "source": [
        "# torch.save(model.state_dict(), 'dpn68_model3.pth')"
      ]
    },
    {
      "cell_type": "code",
      "execution_count": null,
      "metadata": {
        "execution": {
          "iopub.execute_input": "2024-08-27T21:18:19.590191Z",
          "iopub.status.busy": "2024-08-27T21:18:19.589802Z",
          "iopub.status.idle": "2024-08-27T21:18:19.600598Z",
          "shell.execute_reply": "2024-08-27T21:18:19.599842Z",
          "shell.execute_reply.started": "2024-08-27T21:18:19.590153Z"
        },
        "papermill": {
          "duration": 0.408452,
          "end_time": "2024-06-29T23:30:27.325321",
          "exception": false,
          "start_time": "2024-06-29T23:30:26.916869",
          "status": "completed"
        },
        "tags": [],
        "id": "yQBZ25920uyr"
      },
      "outputs": [],
      "source": [
        "history = pd.DataFrame.from_dict(history)\n",
        "history.to_csv(\"history.csv\", index=False)"
      ]
    },
    {
      "cell_type": "markdown",
      "metadata": {
        "papermill": {
          "duration": 0.390665,
          "end_time": "2024-06-29T23:30:28.107797",
          "exception": false,
          "start_time": "2024-06-29T23:30:27.717132",
          "status": "completed"
        },
        "tags": [],
        "id": "wcU6B8Yc0uyr"
      },
      "source": [
        "# <span><h1 style = \"font-family: garamond; font-size: 40px; font-style: normal; letter-spcaing: 3px; background-color: #f6f5f5; color :#fe346e; border-radius: 100px 100px; text-align:center\">Logs</h1></span>"
      ]
    },
    {
      "cell_type": "code",
      "execution_count": null,
      "metadata": {
        "execution": {
          "iopub.execute_input": "2024-08-27T21:18:20.316145Z",
          "iopub.status.busy": "2024-08-27T21:18:20.315832Z",
          "iopub.status.idle": "2024-08-27T21:18:20.583335Z",
          "shell.execute_reply": "2024-08-27T21:18:20.582425Z",
          "shell.execute_reply.started": "2024-08-27T21:18:20.316112Z"
        },
        "papermill": {
          "duration": 0.673512,
          "end_time": "2024-06-29T23:30:29.236485",
          "exception": false,
          "start_time": "2024-06-29T23:30:28.562973",
          "status": "completed"
        },
        "tags": [],
        "id": "Ex4WinYT0uys",
        "outputId": "437535ac-8eec-4752-ce85-d13699bd2c71"
      },
      "outputs": [
        {
          "data": {
            "image/png": "[encoded data removed]",
            "text/plain": [
              "<Figure size 640x480 with 1 Axes>"
            ]
          },
          "metadata": {},
          "output_type": "display_data"
        }
      ],
      "source": [
        "plt.plot( range(history.shape[0]), history[\"Train Loss\"].values, label=\"Train Loss\")\n",
        "plt.plot( range(history.shape[0]), history[\"Valid Loss\"].values, label=\"Valid Loss\")\n",
        "plt.xlabel(\"epochs\")\n",
        "plt.ylabel(\"Loss\")\n",
        "plt.grid()\n",
        "plt.legend()\n",
        "plt.show()"
      ]
    },
    {
      "cell_type": "code",
      "execution_count": null,
      "metadata": {
        "execution": {
          "iopub.execute_input": "2024-08-27T21:18:21.237103Z",
          "iopub.status.busy": "2024-08-27T21:18:21.236608Z",
          "iopub.status.idle": "2024-08-27T21:18:21.484790Z",
          "shell.execute_reply": "2024-08-27T21:18:21.483986Z",
          "shell.execute_reply.started": "2024-08-27T21:18:21.237070Z"
        },
        "papermill": {
          "duration": 0.648584,
          "end_time": "2024-06-29T23:30:30.277915",
          "exception": false,
          "start_time": "2024-06-29T23:30:29.629331",
          "status": "completed"
        },
        "tags": [],
        "id": "exW84hWJ0uys",
        "outputId": "70d2c266-263c-43af-be41-ff83eafdee59"
      },
      "outputs": [
        {
          "data": {
            "image/png": "[encoded data removed]",
            "text/plain": [
              "<Figure size 640x480 with 1 Axes>"
            ]
          },
          "metadata": {},
          "output_type": "display_data"
        }
      ],
      "source": [
        "plt.plot( range(history.shape[0]), history[\"Train AUROC\"].values, label=\"Train AUROC\")\n",
        "plt.plot( range(history.shape[0]), history[\"Valid AUROC\"].values, label=\"Valid AUROC\")\n",
        "plt.xlabel(\"epochs\")\n",
        "plt.ylabel(\"AUROC\")\n",
        "plt.grid()\n",
        "plt.legend()\n",
        "plt.show()"
      ]
    },
    {
      "cell_type": "code",
      "execution_count": null,
      "metadata": {
        "execution": {
          "iopub.execute_input": "2024-08-27T21:18:27.800745Z",
          "iopub.status.busy": "2024-08-27T21:18:27.800323Z",
          "iopub.status.idle": "2024-08-27T21:18:28.043452Z",
          "shell.execute_reply": "2024-08-27T21:18:28.042440Z",
          "shell.execute_reply.started": "2024-08-27T21:18:27.800696Z"
        },
        "papermill": {
          "duration": 0.617692,
          "end_time": "2024-06-29T23:30:31.290602",
          "exception": false,
          "start_time": "2024-06-29T23:30:30.67291",
          "status": "completed"
        },
        "tags": [],
        "id": "nhGdmXQO0uys",
        "outputId": "4097bb9f-fa6c-4b9c-b88c-5cbd92966790"
      },
      "outputs": [
        {
          "data": {
            "image/png": "[encoded data removed]",
            "text/plain": [
              "<Figure size 640x480 with 1 Axes>"
            ]
          },
          "metadata": {},
          "output_type": "display_data"
        }
      ],
      "source": [
        "plt.plot( range(history.shape[0]), history[\"lr\"].values, label=\"lr\")\n",
        "plt.xlabel(\"epochs\")\n",
        "plt.ylabel(\"lr\")\n",
        "plt.grid()\n",
        "plt.legend()\n",
        "plt.show()"
      ]
    },
    {
      "cell_type": "code",
      "execution_count": null,
      "metadata": {
        "execution": {
          "iopub.execute_input": "2024-08-24T00:11:15.549385Z",
          "iopub.status.busy": "2024-08-24T00:11:15.548642Z",
          "iopub.status.idle": "2024-08-24T00:11:15.570829Z",
          "shell.execute_reply": "2024-08-24T00:11:15.569875Z",
          "shell.execute_reply.started": "2024-08-24T00:11:15.549338Z"
        },
        "id": "yzhDCxya0uys"
      },
      "outputs": [],
      "source": [
        "history"
      ]
    },
    {
      "cell_type": "code",
      "execution_count": null,
      "metadata": {
        "execution": {
          "iopub.execute_input": "2024-08-24T13:56:47.981385Z",
          "iopub.status.busy": "2024-08-24T13:56:47.980522Z",
          "iopub.status.idle": "2024-08-24T13:56:48.636915Z",
          "shell.execute_reply": "2024-08-24T13:56:48.635920Z",
          "shell.execute_reply.started": "2024-08-24T13:56:47.981343Z"
        },
        "id": "-2dPM3Lo0uys"
      },
      "outputs": [],
      "source": [
        "# model1 = timm.create_model('hf_hub:timm/densenet121.tv_in1k', pretrained=False)\n",
        "# joblib.dump(model1, open('default_densenet.sav', 'wb'))"
      ]
    },
    {
      "cell_type": "code",
      "execution_count": null,
      "metadata": {
        "id": "45hpkhmZ0uys"
      },
      "outputs": [],
      "source": []
    }
  ],
  "metadata": {
    "kaggle": {
      "accelerator": "gpu",
      "dataSources": [
        {
          "databundleVersionId": 9094797,
          "sourceId": 63056,
          "sourceType": "competition"
        },
        {
          "modelId": 312,
          "modelInstanceId": 2656,
          "sourceId": 3729,
          "sourceType": "modelInstanceVersion"
        }
      ],
      "isGpuEnabled": true,
      "isInternetEnabled": true,
      "language": "python",
      "sourceType": "notebook"
    },
    "kernelspec": {
      "display_name": "Python 3 (ipykernel)",
      "language": "python",
      "name": "python3"
    },
    "language_info": {
      "codemirror_mode": {
        "name": "ipython",
        "version": 3
      },
      "file_extension": ".py",
      "mimetype": "text/x-python",
      "name": "python",
      "nbconvert_exporter": "python",
      "pygments_lexer": "ipython3",
      "version": "3.11.5"
    },
    "papermill": {
      "default_parameters": {},
      "duration": 793.680734,
      "end_time": "2024-06-29T23:30:34.642937",
      "environment_variables": {},
      "exception": null,
      "input_path": "__notebook__.ipynb",
      "output_path": "__notebook__.ipynb",
      "parameters": {},
      "start_time": "2024-06-29T23:17:20.962203",
      "version": "2.5.0"
    },
    "widgets": {
      "application/vnd.jupyter.widget-state+json": {}
    },
    "colab": {
      "provenance": []
    }
  },
  "nbformat": 4,
  "nbformat_minor": 0
}