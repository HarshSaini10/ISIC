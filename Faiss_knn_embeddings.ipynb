{
  "cells": [
    {
      "cell_type": "code",
      "execution_count": null,
      "id": "a681639d-dd76-430c-8244-ab8871003d07",
      "metadata": {
        "id": "a681639d-dd76-430c-8244-ab8871003d07",
        "outputId": "ce127804-05bb-49d8-cc3a-2cededb05d6f"
      },
      "outputs": [
        {
          "name": "stderr",
          "output_type": "stream",
          "text": [
            "INFO:albumentations.check_version:A new version of Albumentations is available: 1.4.14 (you have 1.4.13). Upgrade using: pip install -U albumentations. To disable automatic update checks, set the environment variable NO_ALBUMENTATIONS_UPDATE to 1.\n"
          ]
        }
      ],
      "source": [
        "import numpy as np\n",
        "import pandas as pd\n",
        "import matplotlib.pyplot as plt\n",
        "import seaborn as sns\n",
        "import h5py, io\n",
        "import os\n",
        "import torch\n",
        "from torch.utils.data import Dataset,DataLoader,Sampler\n",
        "from PIL import Image\n",
        "from sklearn.model_selection import train_test_split\n",
        "from sklearn.preprocessing import OneHotEncoder\n",
        "import albumentations as A\n",
        "from tqdm.notebook import tqdm_notebook as tqdm\n",
        "import torch.nn as nn\n",
        "from albumentations.pytorch import ToTensorV2\n",
        "import torchvision\n",
        "import torchmetrics\n",
        "from torchvision import datasets, models, transforms\n",
        "import sklearn\n",
        "from sklearn.model_selection import StratifiedKFold\n",
        "from sklearn.metrics import roc_auc_score\n",
        "from sklearn.feature_selection import mutual_info_classif\n",
        "device = 'cuda' if torch.cuda.is_available() else 'cpu'\n",
        "import warnings\n",
        "import pickle\n",
        "warnings.filterwarnings(\"ignore\")\n",
        "sns.set()"
      ]
    },
    {
      "cell_type": "code",
      "execution_count": null,
      "id": "2f86c242-3d76-4fa8-9163-fea413a73fce",
      "metadata": {
        "id": "2f86c242-3d76-4fa8-9163-fea413a73fce"
      },
      "outputs": [],
      "source": [
        "image_data = h5py.File('train-image.hdf5', 'r')"
      ]
    },
    {
      "cell_type": "code",
      "execution_count": null,
      "id": "65ac25c3-7a47-430a-8c1a-aac6fe2d035e",
      "metadata": {
        "id": "65ac25c3-7a47-430a-8c1a-aac6fe2d035e"
      },
      "outputs": [],
      "source": [
        "keys = list(image_data.keys())"
      ]
    },
    {
      "cell_type": "code",
      "execution_count": null,
      "id": "ec02f54b-1a93-4348-880c-4d35031291c8",
      "metadata": {
        "id": "ec02f54b-1a93-4348-880c-4d35031291c8"
      },
      "outputs": [],
      "source": [
        "keys = np.array(keys)"
      ]
    },
    {
      "cell_type": "code",
      "execution_count": null,
      "id": "4eef2b70-2cc0-4a31-94e3-5cebe7e1f8cf",
      "metadata": {
        "id": "4eef2b70-2cc0-4a31-94e3-5cebe7e1f8cf"
      },
      "outputs": [],
      "source": [
        "df_train = pd.read_csv('train-metadata.csv')"
      ]
    },
    {
      "cell_type": "code",
      "execution_count": null,
      "id": "731fdfab-2aff-4d43-b783-2479e04c6011",
      "metadata": {
        "id": "731fdfab-2aff-4d43-b783-2479e04c6011"
      },
      "outputs": [],
      "source": [
        "y_train = df_train['target']"
      ]
    },
    {
      "cell_type": "code",
      "execution_count": null,
      "id": "dd39ab52-630b-4dba-a39d-7e0193f9e6ac",
      "metadata": {
        "id": "dd39ab52-630b-4dba-a39d-7e0193f9e6ac"
      },
      "outputs": [],
      "source": [
        "df_test = pd.read_csv('test-metadata.csv')"
      ]
    },
    {
      "cell_type": "code",
      "execution_count": null,
      "id": "d1679294-8e91-461e-a0ff-4c19d2e089ff",
      "metadata": {
        "id": "d1679294-8e91-461e-a0ff-4c19d2e089ff"
      },
      "outputs": [],
      "source": [
        "# from sklearn.neighbors import NearestNeighbors\n",
        "\n",
        "# # set desired number of neighbors\n",
        "# neigh = NearestNeighbors(n_neighbors = 100)\n",
        "# neigh.fit(embed, y_train)\n",
        "# # select indices of k nearest neighbors of the vectors in the input list\n",
        "# # neighbors = neigh.kneighbors([xq], return_distance = False)"
      ]
    },
    {
      "cell_type": "code",
      "execution_count": null,
      "id": "a81440bb-c86d-4ebc-b3c7-2cdcb345b480",
      "metadata": {
        "id": "a81440bb-c86d-4ebc-b3c7-2cdcb345b480"
      },
      "outputs": [],
      "source": [
        "# for xq in embed:\n",
        "#     # neighbors.append(keys[*neigh.kneighbors(xq.reshape(1,-1), return_distance = False)])\n",
        "#     del xq"
      ]
    },
    {
      "cell_type": "code",
      "execution_count": null,
      "id": "bb772a3b-511f-434d-bc25-b04c228302d1",
      "metadata": {
        "id": "bb772a3b-511f-434d-bc25-b04c228302d1"
      },
      "outputs": [],
      "source": [
        "# root = Path('/kaggle/input/isic-2024-challenge')\n",
        "\n",
        "# train_path = root / 'train-metadata.csv'\n",
        "# test_path = root / 'test-metadata.csv'\n",
        "# subm_path = root / 'sample_submission.csv'\n",
        "\n",
        "id_col = 'isic_id'\n",
        "target_col = 'target'\n",
        "group_col = 'patient_id'\n",
        "\n",
        "err = 1e-5\n",
        "sampling_ratio = 0.01\n",
        "seed = 42\n",
        "\n",
        "num_cols = [\n",
        "    'age_approx',                        # Approximate age of patient at time of imaging.\n",
        "    'clin_size_long_diam_mm',            # Maximum diameter of the lesion (mm).+\n",
        "    'tbp_lv_A',                          # A inside  lesion.+\n",
        "    'tbp_lv_Aext',                       # A outside lesion.+\n",
        "    'tbp_lv_B',                          # B inside  lesion.+\n",
        "    'tbp_lv_Bext',                       # B outside lesion.+\n",
        "    'tbp_lv_C',                          # Chroma inside  lesion.+\n",
        "    'tbp_lv_Cext',                       # Chroma outside lesion.+\n",
        "    'tbp_lv_H',                          # Hue inside the lesion; calculated as the angle of A* and B* in LAB* color space. Typical values range from 25 (red) to 75 (brown).+\n",
        "    'tbp_lv_Hext',                       # Hue outside lesion.+\n",
        "    'tbp_lv_L',                          # L inside lesion.+\n",
        "    'tbp_lv_Lext',                       # L outside lesion.+\n",
        "    'tbp_lv_areaMM2',                    # Area of lesion (mm^2).+\n",
        "    'tbp_lv_area_perim_ratio',           # Border jaggedness, the ratio between lesions perimeter and area. Circular lesions will have low values; irregular shaped lesions will have higher values. Values range 0-10.+\n",
        "    'tbp_lv_color_std_mean',             # Color irregularity, calculated as the variance of colors within the lesion's boundary.\n",
        "    'tbp_lv_deltaA',                     # Average A contrast (inside vs. outside lesion).+\n",
        "    'tbp_lv_deltaB',                     # Average B contrast (inside vs. outside lesion).+\n",
        "    'tbp_lv_deltaL',                     # Average L contrast (inside vs. outside lesion).+\n",
        "    'tbp_lv_deltaLB',                    #\n",
        "    'tbp_lv_deltaLBnorm',                # Contrast between the lesion and its immediate surrounding skin. Low contrast lesions tend to be faintly visible such as freckles; high contrast lesions tend to be those with darker pigment. Calculated as the average delta LB of the lesion relative to its immediate background in LAB* color space. Typical values range from 5.5 to 25.+\n",
        "    'tbp_lv_eccentricity',               # Eccentricity.+\n",
        "    'tbp_lv_minorAxisMM',                # Smallest lesion diameter (mm).+\n",
        "    'tbp_lv_nevi_confidence',            # Nevus confidence score (0-100 scale) is a convolutional neural network classifier estimated probability that the lesion is a nevus. The neural network was trained on approximately 57,000 lesions that were classified and labeled by a dermatologist.+,++\n",
        "    'tbp_lv_norm_border',                # Border irregularity (0-10 scale); the normalized average of border jaggedness and asymmetry.+\n",
        "    'tbp_lv_norm_color',                 # Color variation (0-10 scale); the normalized average of color asymmetry and color irregularity.+\n",
        "    'tbp_lv_perimeterMM',                # Perimeter of lesion (mm).+\n",
        "    'tbp_lv_radial_color_std_max',       # Color asymmetry, a measure of asymmetry of the spatial distribution of color within the lesion. This score is calculated by looking at the average standard deviation in LAB* color space within concentric rings originating from the lesion center. Values range 0-10.+\n",
        "    'tbp_lv_stdL',                       # Standard deviation of L inside  lesion.+\n",
        "    'tbp_lv_stdLExt',                    # Standard deviation of L outside lesion.+\n",
        "    'tbp_lv_symm_2axis',                 # Border asymmetry; a measure of asymmetry of the lesion's contour about an axis perpendicular to the lesion's most symmetric axis. Lesions with two axes of symmetry will therefore have low scores (more symmetric), while lesions with only one or zero axes of symmetry will have higher scores (less symmetric). This score is calculated by comparing opposite halves of the lesion contour over many degrees of rotation. The angle where the halves are most similar identifies the principal axis of symmetry, while the second axis of symmetry is perpendicular to the principal axis. Border asymmetry is reported as the asymmetry value about this second axis. Values range 0-10.+\n",
        "    'tbp_lv_symm_2axis_angle',           # Lesion border asymmetry angle.+\n",
        "    'tbp_lv_x',                          # X-coordinate of the lesion on 3D TBP.+\n",
        "    'tbp_lv_y',                          # Y-coordinate of the lesion on 3D TBP.+\n",
        "    'tbp_lv_z',                          # Z-coordinate of the lesion on 3D TBP.+\n",
        "]\n",
        "\n",
        "new_num_cols = [\n",
        "    'lesion_size_ratio',             # tbp_lv_minorAxisMM      / clin_size_long_diam_mm\n",
        "    'lesion_shape_index',            # tbp_lv_areaMM2          / tbp_lv_perimeterMM **2\n",
        "    'hue_contrast',                  # tbp_lv_H                - tbp_lv_Hext              abs\n",
        "    'luminance_contrast',            # tbp_lv_L                - tbp_lv_Lext              abs\n",
        "    'lesion_color_difference',       # tbp_lv_deltaA **2       + tbp_lv_deltaB **2 + tbp_lv_deltaL **2  sqrt\n",
        "    'border_complexity',             # tbp_lv_norm_border      + tbp_lv_symm_2axis\n",
        "    'color_uniformity',              # tbp_lv_color_std_mean   / tbp_lv_radial_color_std_max\n",
        "\n",
        "    'position_distance_3d',          # tbp_lv_x **2 + tbp_lv_y **2 + tbp_lv_z **2  sqrt\n",
        "    'perimeter_to_area_ratio',       # tbp_lv_perimeterMM      / tbp_lv_areaMM2\n",
        "    'area_to_perimeter_ratio',       # tbp_lv_areaMM2          / tbp_lv_perimeterMM\n",
        "    'lesion_visibility_score',       # tbp_lv_deltaLBnorm      + tbp_lv_norm_color\n",
        "    'symmetry_border_consistency',   # tbp_lv_symm_2axis       * tbp_lv_norm_border\n",
        "    'consistency_symmetry_border',   # tbp_lv_symm_2axis       * tbp_lv_norm_border / (tbp_lv_symm_2axis + tbp_lv_norm_border)\n",
        "\n",
        "    'color_consistency',             # tbp_lv_stdL             / tbp_lv_Lext\n",
        "    'consistency_color',             # tbp_lv_stdL*tbp_lv_Lext / tbp_lv_stdL + tbp_lv_Lext\n",
        "    'size_age_interaction',          # clin_size_long_diam_mm  * age_approx\n",
        "    'hue_color_std_interaction',     # tbp_lv_H                * tbp_lv_color_std_mean\n",
        "    'lesion_severity_index',         # tbp_lv_norm_border      + tbp_lv_norm_color + tbp_lv_eccentricity / 3\n",
        "    'shape_complexity_index',        # border_complexity       + lesion_shape_index\n",
        "    'color_contrast_index',          # tbp_lv_deltaA + tbp_lv_deltaB + tbp_lv_deltaL + tbp_lv_deltaLBnorm\n",
        "\n",
        "    'log_lesion_area',               # tbp_lv_areaMM2          + 1  np.log\n",
        "    'normalized_lesion_size',        # clin_size_long_diam_mm  / age_approx\n",
        "    'mean_hue_difference',           # tbp_lv_H                + tbp_lv_Hext    / 2\n",
        "    'std_dev_contrast',              # tbp_lv_deltaA **2 + tbp_lv_deltaB **2 + tbp_lv_deltaL **2   / 3  np.sqrt\n",
        "    'color_shape_composite_index',   # tbp_lv_color_std_mean   + bp_lv_area_perim_ratio + tbp_lv_symm_2axis   / 3\n",
        "    'lesion_orientation_3d',         # tbp_lv_y                , tbp_lv_x  np.arctan2\n",
        "    'overall_color_difference',      # tbp_lv_deltaA           + tbp_lv_deltaB + tbp_lv_deltaL   / 3\n",
        "\n",
        "    'symmetry_perimeter_interaction',# tbp_lv_symm_2axis       * tbp_lv_perimeterMM\n",
        "    'comprehensive_lesion_index',    # tbp_lv_area_perim_ratio + tbp_lv_eccentricity + bp_lv_norm_color + tbp_lv_symm_2axis   / 4\n",
        "    'color_variance_ratio',          # tbp_lv_color_std_mean   / tbp_lv_stdLExt\n",
        "    'border_color_interaction',      # tbp_lv_norm_border      * tbp_lv_norm_color\n",
        "    'border_color_interaction_2',\n",
        "    'size_color_contrast_ratio',     # clin_size_long_diam_mm  / tbp_lv_deltaLBnorm\n",
        "    'age_normalized_nevi_confidence',# tbp_lv_nevi_confidence  / age_approx\n",
        "    'age_normalized_nevi_confidence_2',\n",
        "    'color_asymmetry_index',         # tbp_lv_symm_2axis       * tbp_lv_radial_color_std_max\n",
        "\n",
        "    'volume_approximation_3d',       # tbp_lv_areaMM2          * sqrt(tbp_lv_x**2 + tbp_lv_y**2 + tbp_lv_z**2)\n",
        "    'color_range',                   # abs(tbp_lv_L - tbp_lv_Lext) + abs(tbp_lv_A - tbp_lv_Aext) + abs(tbp_lv_B - tbp_lv_Bext)\n",
        "    'shape_color_consistency',       # tbp_lv_eccentricity     * tbp_lv_color_std_mean\n",
        "    'border_length_ratio',           # tbp_lv_perimeterMM      / pi * sqrt(tbp_lv_areaMM2 / pi)\n",
        "    'age_size_symmetry_index',       # age_approx              * clin_size_long_diam_mm * tbp_lv_symm_2axis\n",
        "    'index_age_size_symmetry',       # age_approx              * tbp_lv_areaMM2 * tbp_lv_symm_2axis\n",
        "]\n",
        "\n",
        "cat_cols = ['sex', 'anatom_site_general', 'tbp_tile_type', 'tbp_lv_location', 'tbp_lv_location_simple', 'attribution']\n",
        "norm_cols = [f'{col}_patient_norm' for col in num_cols + new_num_cols]\n",
        "special_cols = ['count_per_patient']\n",
        "feature_cols = num_cols + new_num_cols + cat_cols + norm_cols + special_cols"
      ]
    },
    {
      "cell_type": "code",
      "execution_count": null,
      "id": "7c0f3881-aa94-4912-a560-01a4df1b49ea",
      "metadata": {
        "id": "7c0f3881-aa94-4912-a560-01a4df1b49ea"
      },
      "outputs": [],
      "source": [
        "def preprocess(df_train, df_test):\n",
        "    global cat_cols\n",
        "\n",
        "    encoder = OneHotEncoder(sparse_output=False, dtype=np.int32, handle_unknown='ignore')\n",
        "    encoder.fit(df_train[cat_cols])\n",
        "\n",
        "    new_cat_cols = [f'onehot_{i}' for i in range(len(encoder.get_feature_names_out()))]\n",
        "\n",
        "    df_train[new_cat_cols] = encoder.transform(df_train[cat_cols])\n",
        "    df_train[new_cat_cols] = df_train[new_cat_cols].astype('category')\n",
        "\n",
        "    df_test[new_cat_cols] = encoder.transform(df_test[cat_cols])\n",
        "    df_test[new_cat_cols] = df_test[new_cat_cols].astype('category')\n",
        "\n",
        "    for col in cat_cols:\n",
        "        feature_cols.remove(col)\n",
        "\n",
        "    feature_cols.extend(new_cat_cols)\n",
        "    cat_cols = new_cat_cols\n",
        "\n",
        "    return df_train, df_test"
      ]
    },
    {
      "cell_type": "code",
      "execution_count": null,
      "id": "925ec18f-1028-433b-a474-af3a054fd4de",
      "metadata": {
        "id": "925ec18f-1028-433b-a474-af3a054fd4de"
      },
      "outputs": [],
      "source": [
        "df_train, df_test = preprocess(df_train, df_test)"
      ]
    },
    {
      "cell_type": "code",
      "execution_count": null,
      "id": "910872be-bf39-4a98-9f92-2dd2867ddba0",
      "metadata": {
        "id": "910872be-bf39-4a98-9f92-2dd2867ddba0"
      },
      "outputs": [],
      "source": [
        "features_not_in_test = []\n",
        "for i in df_train.columns:\n",
        "    if i not in df_test.columns and i != 'target':\n",
        "        features_not_in_test.append(i)"
      ]
    },
    {
      "cell_type": "code",
      "execution_count": null,
      "id": "8e58da19-13d0-4a34-a0fe-2afd61ea09f7",
      "metadata": {
        "id": "8e58da19-13d0-4a34-a0fe-2afd61ea09f7"
      },
      "outputs": [],
      "source": [
        "for i in features_not_in_test:\n",
        "    del df_train[i]"
      ]
    },
    {
      "cell_type": "code",
      "execution_count": null,
      "id": "c012aa30-e646-4d10-a54b-d57ccaa4116d",
      "metadata": {
        "id": "c012aa30-e646-4d10-a54b-d57ccaa4116d"
      },
      "outputs": [],
      "source": [
        "for i in ['image_type', 'copyright_license']:\n",
        "    del df_train[i]\n",
        "    del df_test[i]"
      ]
    },
    {
      "cell_type": "code",
      "execution_count": null,
      "id": "99b713ef-df7d-41e4-97b9-844178922cab",
      "metadata": {
        "id": "99b713ef-df7d-41e4-97b9-844178922cab",
        "outputId": "a533fa1b-a159-4a80-860b-517931518792"
      },
      "outputs": [
        {
          "name": "stdout",
          "output_type": "stream",
          "text": [
            "Requirement already satisfied: faiss-cpu in c:\\users\\hs106\\appdata\\local\\programs\\python\\python311\\lib\\site-packages (1.8.0.post1)\n",
            "Requirement already satisfied: numpy<2.0,>=1.0 in c:\\users\\hs106\\appdata\\local\\programs\\python\\python311\\lib\\site-packages (from faiss-cpu) (1.26.0)\n",
            "Requirement already satisfied: packaging in c:\\users\\hs106\\appdata\\local\\programs\\python\\python311\\lib\\site-packages (from faiss-cpu) (23.2)\n"
          ]
        },
        {
          "name": "stderr",
          "output_type": "stream",
          "text": [
            "ERROR: Could not find a version that satisfies the requirement faiss-gpu (from versions: none)\n",
            "ERROR: No matching distribution found for faiss-gpu\n"
          ]
        }
      ],
      "source": [
        "!pip install faiss-cpu\n",
        "!pip install faiss-gpu"
      ]
    },
    {
      "cell_type": "code",
      "execution_count": null,
      "id": "da2696be-fbb0-4270-8ee4-ef9e897b4598",
      "metadata": {
        "id": "da2696be-fbb0-4270-8ee4-ef9e897b4598"
      },
      "outputs": [],
      "source": [
        "for cols in ['sex', 'anatom_site_general', 'tbp_tile_type', 'tbp_lv_location', 'tbp_lv_location_simple', 'attribution']:\n",
        "    del df_train[cols]\n",
        "    del df_test[cols]"
      ]
    },
    {
      "cell_type": "code",
      "execution_count": null,
      "id": "c02f5e56-75eb-4f34-8a9d-a58465269287",
      "metadata": {
        "id": "c02f5e56-75eb-4f34-8a9d-a58465269287"
      },
      "outputs": [],
      "source": [
        "malignant = df_train[df_train['target']==1]\n",
        "benign = df_train[df_train['target']==0]"
      ]
    },
    {
      "cell_type": "code",
      "execution_count": null,
      "id": "7f5e8bf6-1382-4726-b12d-786ca502ce48",
      "metadata": {
        "id": "7f5e8bf6-1382-4726-b12d-786ca502ce48"
      },
      "outputs": [],
      "source": [
        "isic_ids = benign['isic_id']\n",
        "patient_ids = benign['patient_id']"
      ]
    },
    {
      "cell_type": "code",
      "execution_count": null,
      "id": "3db07796-5f67-4480-a320-622d7981934f",
      "metadata": {
        "id": "3db07796-5f67-4480-a320-622d7981934f"
      },
      "outputs": [],
      "source": [
        "del benign['isic_id']\n",
        "del benign['patient_id']\n",
        "negative_features=benign.values.astype('float32')\n",
        "benign['isic_id'] = isic_ids\n",
        "benign['patient_id'] = patient_ids"
      ]
    },
    {
      "cell_type": "code",
      "execution_count": null,
      "id": "1dfb7b39-d243-49e3-9ee8-871cc15156d2",
      "metadata": {
        "id": "1dfb7b39-d243-49e3-9ee8-871cc15156d2",
        "outputId": "539019c6-3b0f-4ca6-f35a-a85e480ceb2a"
      },
      "outputs": [
        {
          "name": "stderr",
          "output_type": "stream",
          "text": [
            "INFO:faiss.loader:Loading faiss with AVX2 support.\n",
            "INFO:faiss.loader:Successfully loaded faiss with AVX2 support.\n"
          ]
        },
        {
          "name": "stdout",
          "output_type": "stream",
          "text": [
            "New undersampled dataset saved with shape: (10393, 84)\n"
          ]
        }
      ],
      "source": [
        "import faiss\n",
        "\n",
        "positive_examples = malignant\n",
        "negative_examples = benign\n",
        "# df[df.columns.difference([exclude_column])] = df[df.columns.difference([exclude_column])].values.astype(float)\n",
        "# negative_features=benign.values.astype('float32')\n",
        "negative_features = np.ascontiguousarray(negative_features)\n",
        "faiss.normalize_L2(negative_features)\n",
        "d = negative_features.shape[1]\n",
        "nlist = 2530\n",
        "index = faiss.IndexFlatIP(d)\n",
        "index.add(negative_features)\n",
        "k = 25\n",
        "D, I = index.search(negative_features, k)\n",
        "\n",
        "selected_indices = []\n",
        "for i in range(len(I)):\n",
        "    if len(selected_indices) >= 10000:\n",
        "        break\n",
        "    if i not in selected_indices:\n",
        "        neighbors = I[i]\n",
        "        selected_indices.append(i)\n",
        "        for neighbor in neighbors[1:]:\n",
        "            if len(selected_indices) < 10000 and neighbor not in selected_indices:\n",
        "                selected_indices.append(neighbor)\n",
        "selected_negative_examples = negative_examples.iloc[selected_indices]\n",
        "undersampled_df = pd.concat([positive_examples, selected_negative_examples])\n",
        "undersampled_df = undersampled_df.sample(frac=1, random_state=42).reset_index(drop=True)\n",
        "undersampled_df.to_csv('undersampled_dataset3.csv', index=False)\n",
        "print(\"New undersampled dataset saved with shape:\", undersampled_df.shape)"
      ]
    },
    {
      "cell_type": "code",
      "execution_count": null,
      "id": "8e230390-e850-4289-b203-a7963e8e5cab",
      "metadata": {
        "id": "8e230390-e850-4289-b203-a7963e8e5cab"
      },
      "outputs": [],
      "source": [
        "ids = undersampled_df['isic_id']"
      ]
    },
    {
      "cell_type": "code",
      "execution_count": null,
      "id": "7f11b2ac-f4a3-4391-9247-024af7287cb4",
      "metadata": {
        "id": "7f11b2ac-f4a3-4391-9247-024af7287cb4"
      },
      "outputs": [],
      "source": [
        "ids.to_csv('faiss_undersampled_ids.csv', index = False)"
      ]
    },
    {
      "cell_type": "code",
      "execution_count": null,
      "id": "8d933dcd-f66f-4608-92d7-c18219e9eafd",
      "metadata": {
        "id": "8d933dcd-f66f-4608-92d7-c18219e9eafd"
      },
      "outputs": [],
      "source": [
        "undersampled_df.to_csv('faiss_undersampled_df2.csv')"
      ]
    },
    {
      "cell_type": "code",
      "execution_count": null,
      "id": "fcc6bb10-2292-46b1-83e9-a871e10f6051",
      "metadata": {
        "id": "fcc6bb10-2292-46b1-83e9-a871e10f6051"
      },
      "outputs": [],
      "source": []
    }
  ],
  "metadata": {
    "kernelspec": {
      "display_name": "Python 3 (ipykernel)",
      "language": "python",
      "name": "python3"
    },
    "language_info": {
      "codemirror_mode": {
        "name": "ipython",
        "version": 3
      },
      "file_extension": ".py",
      "mimetype": "text/x-python",
      "name": "python",
      "nbconvert_exporter": "python",
      "pygments_lexer": "ipython3",
      "version": "3.11.5"
    },
    "colab": {
      "provenance": []
    }
  },
  "nbformat": 4,
  "nbformat_minor": 5
}